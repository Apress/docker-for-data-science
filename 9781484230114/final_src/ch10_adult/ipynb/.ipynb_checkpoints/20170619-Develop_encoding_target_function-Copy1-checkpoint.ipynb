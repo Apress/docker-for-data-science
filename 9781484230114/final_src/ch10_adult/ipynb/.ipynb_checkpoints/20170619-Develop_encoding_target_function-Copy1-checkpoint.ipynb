{
 "cells": [
  {
   "cell_type": "code",
   "execution_count": 1,
   "metadata": {
    "collapsed": true
   },
   "outputs": [],
   "source": [
    "from os import chdir\n",
    "chdir('/home/jovyan/work')"
   ]
  },
  {
   "cell_type": "code",
   "execution_count": 2,
   "metadata": {
    "collapsed": true
   },
   "outputs": [],
   "source": [
    "from lib.postgres import connect_to_postgres\n",
    "import numpy as np"
   ]
  },
  {
   "cell_type": "markdown",
   "metadata": {},
   "source": [
    "### Attribute Type\n",
    "    age: continuous\n",
    "    workclass: class\n",
    "    fnlwgt: continuous\n",
    "    education: class\n",
    "    education_num: continuous\n",
    "    marital_status: class\n",
    "    occupation: class\n",
    "    relationship: class\n",
    "    race: class\n",
    "    gender: class\n",
    "    capital_gain: continuous\n",
    "    capital_loss: continuous\n",
    "    hours_per_week: continuous\n",
    "    native_country: class\n",
    "    income_label: class"
   ]
  },
  {
   "cell_type": "code",
   "execution_count": 3,
   "metadata": {
    "collapsed": true
   },
   "outputs": [],
   "source": [
    "con, cur = connect_to_postgres()\n",
    "cur.execute(\"\"\"\n",
    "BEGIN;\n",
    "ALTER TABLE adult ADD COLUMN _id SERIAL PRIMARY KEY;\n",
    "ALTER TABLE adult ADD COLUMN target BOOLEAN;\n",
    "COMMIT;\n",
    "\"\"\")\n",
    "con.close()"
   ]
  },
  {
   "cell_type": "code",
   "execution_count": 4,
   "metadata": {},
   "outputs": [
    {
     "name": "stdout",
     "output_type": "stream",
     "text": [
      "[(' >50K',), (' <=50K',)]\n"
     ]
    }
   ],
   "source": [
    "con, cur = connect_to_postgres()\n",
    "cur.execute(\"\"\"SELECT DISTINCT(income_label) FROM adult;\"\"\") \n",
    "print(cur.fetchall())\n",
    "con.close()"
   ]
  },
  {
   "cell_type": "code",
   "execution_count": 5,
   "metadata": {
    "collapsed": true
   },
   "outputs": [],
   "source": [
    "con, cur = connect_to_postgres()\n",
    "cur.execute(\"\"\"SELECT _id, income_label FROM adult WHERE target IS NULL;\"\"\") \n",
    "this_id, income_label = cur.fetchone()\n",
    "\n",
    "greater_than_50k = (income_label == ' >50K')\n",
    "\n",
    "cur.execute(\"\"\"\n",
    "BEGIN;\n",
    "UPDATE adult \n",
    "SET target = {} \n",
    "WHERE _id = {};\n",
    "COMMIT;\n",
    "\"\"\".format(greater_than_50k, this_id)) \n",
    "\n",
    "con.close()"
   ]
  },
  {
   "cell_type": "code",
   "execution_count": 6,
   "metadata": {},
   "outputs": [
    {
     "name": "stdout",
     "output_type": "stream",
     "text": [
      "10 (10, ' >50K', True)\n"
     ]
    }
   ],
   "source": [
    "con, cur = connect_to_postgres()\n",
    "cur.execute(\"\"\"\n",
    "SELECT _id, income_label, target \n",
    "FROM adult WHERE _id = {};\n",
    "\"\"\".format(this_id)) \n",
    "print(this_id, cur.fetchone())\n",
    "con.close()"
   ]
  },
  {
   "cell_type": "code",
   "execution_count": 7,
   "metadata": {
    "collapsed": true
   },
   "outputs": [],
   "source": [
    "def encode_target(_id):\n",
    "    \"\"\"Encode the target for a single row as a boolean value. Takes a row _id.\"\"\"\n",
    "    con, cur = connect_to_postgres()\n",
    "    cur.execute(\"\"\"SELECT _id, income_label FROM adult\"\"\".format(_id)) \n",
    "    this_id, income_label = cur.fetchone()\n",
    "    assert this_id == _id\n",
    "\n",
    "    greater_than_50k = (income_label == ' >50K')\n",
    "\n",
    "    cur.execute(\"\"\"\n",
    "        BEGIN;\n",
    "        UPDATE adult \n",
    "        SET target = {} \n",
    "        WHERE _id = {};\n",
    "        COMMIT;\n",
    "    \"\"\".format(greater_than_50k, _id)) \n",
    "\n",
    "    con.close()"
   ]
  },
  {
   "cell_type": "code",
   "execution_count": 71,
   "metadata": {
    "collapsed": true
   },
   "outputs": [],
   "source": [
    "con, cur = connect_to_postgres()\n",
    "cur.execute(\"\"\"SELECT _id FROM adult WHERE target IS NULL;\"\"\") \n",
    "this_id, = cur.fetchone()\n",
    "encode_target(this_id)\n",
    "con.close()"
   ]
  },
  {
   "cell_type": "code",
   "execution_count": 8,
   "metadata": {},
   "outputs": [
    {
     "name": "stdout",
     "output_type": "stream",
     "text": [
      "11 (11, ' >50K', True)\n"
     ]
    }
   ],
   "source": [
    "con, cur = connect_to_postgres()\n",
    "cur.execute(\"\"\"\n",
    "SELECT _id, income_label, target \n",
    "FROM adult WHERE _id = {};\n",
    "\"\"\".format(this_id)) \n",
    "print(this_id, cur.fetchone())\n",
    "con.close()"
   ]
  },
  {
   "cell_type": "code",
   "execution_count": 9,
   "metadata": {
    "collapsed": true
   },
   "outputs": [],
   "source": [
    "con, cur = connect_to_postgres()\n",
    "cur.execute(\"\"\"SELECT DISTINCT(workclass) from adult;\"\"\") \n",
    "workclass = [\"workclass\"+token[0] for token in cur.fetchall()]\n",
    "cur.execute(\"\"\"SELECT DISTINCT(education) from adult;\"\"\") \n",
    "education = [\"education\"+token[0] for token in cur.fetchall()]\n",
    "cur.execute(\"\"\"SELECT DISTINCT(marital_status) from adult;\"\"\") \n",
    "marital_status = [\"marital_status\"+token[0] for token in cur.fetchall()]\n",
    "cur.execute(\"\"\"SELECT DISTINCT(occupation) from adult;\"\"\") \n",
    "occupation = [\"occupation\"+token[0] for token in cur.fetchall()]\n",
    "cur.execute(\"\"\"SELECT DISTINCT(relationship) from adult;\"\"\") \n",
    "relationship = [\"relationship\"+token[0] for token in cur.fetchall()]\n",
    "cur.execute(\"\"\"SELECT DISTINCT(race) from adult;\"\"\") \n",
    "race = [\"race\"+token[0] for token in cur.fetchall()]\n",
    "cur.execute(\"\"\"SELECT DISTINCT(gender) from adult;\"\"\") \n",
    "gender = [\"gender\"+token[0] for token in cur.fetchall()]\n",
    "cur.execute(\"\"\"SELECT DISTINCT(native_country) from adult;\"\"\") \n",
    "native_country = [\"native_country\"+token[0] for token in cur.fetchall()]\n",
    "con.close()"
   ]
  },
  {
   "cell_type": "code",
   "execution_count": 9,
   "metadata": {
    "collapsed": true
   },
   "outputs": [],
   "source": [
    "one_hot_labels = workclass + \\\n",
    "                    education + \\\n",
    "                    marital_status + \\\n",
    "                    occupation + \\\n",
    "                    relationship + \\\n",
    "                    race + \\\n",
    "                    gender + \\\n",
    "                    native_country"
   ]
  },
  {
   "cell_type": "code",
   "execution_count": 10,
   "metadata": {
    "collapsed": true
   },
   "outputs": [],
   "source": [
    "n_categorical = len(one_hot_labels)"
   ]
  },
  {
   "cell_type": "code",
   "execution_count": 12,
   "metadata": {},
   "outputs": [
    {
     "data": {
      "text/plain": [
       "102"
      ]
     },
     "execution_count": 12,
     "metadata": {},
     "output_type": "execute_result"
    }
   ],
   "source": [
    "n_categorical"
   ]
  },
  {
   "cell_type": "code",
   "execution_count": 14,
   "metadata": {
    "collapsed": true
   },
   "outputs": [],
   "source": [
    "con, cur = connect_to_postgres()\n",
    "cur.execute(\"\"\"SELECT _ID, * FROM adult;\"\"\")\n",
    "this_row = list(cur.fetchone())\n",
    "this_id = this_row[0]\n",
    "this_row_numeric = [this_row[1], this_row[3], this_row[5], this_row[11], this_row[12], this_row[13]]\n",
    "this_row_categorical = [\n",
    "    \"workclass\" + this_row[2],\n",
    "    \"education\" + this_row[4],\n",
    "    \"marital_status\" + this_row[6],\n",
    "    \"occupation\" + this_row[7],\n",
    "    \"relationship\" + this_row[8],\n",
    "    \"race\" + this_row[9],\n",
    "    \"gender\" + this_row[10],\n",
    "    \"native_country\" + this_row[14]\n",
    "]"
   ]
  },
  {
   "cell_type": "code",
   "execution_count": 16,
   "metadata": {},
   "outputs": [
    {
     "data": {
      "text/plain": [
       "(1,\n",
       " [39, 77516, 13, 2174, 0, 40],\n",
       " ['workclass State-gov',\n",
       "  'education Bachelors',\n",
       "  'marital_status Never-married',\n",
       "  'occupation Adm-clerical',\n",
       "  'relationship Not-in-family',\n",
       "  'race White',\n",
       "  'gender Male',\n",
       "  'native_country United-States'])"
      ]
     },
     "execution_count": 16,
     "metadata": {},
     "output_type": "execute_result"
    }
   ],
   "source": [
    "this_id, this_row_numeric, this_row_categorical"
   ]
  },
  {
   "cell_type": "code",
   "execution_count": 19,
   "metadata": {
    "collapsed": true
   },
   "outputs": [],
   "source": [
    "encoded_categorical = [0]*n_categorical"
   ]
  },
  {
   "cell_type": "code",
   "execution_count": 20,
   "metadata": {
    "collapsed": true
   },
   "outputs": [],
   "source": [
    "one_hot_indices = [one_hot_labels.index(attr) for attr in this_row_categorical]"
   ]
  },
  {
   "cell_type": "code",
   "execution_count": 21,
   "metadata": {
    "collapsed": true
   },
   "outputs": [],
   "source": [
    "for i in one_hot_indices:\n",
    "    encoded_categorical[i] = 1   "
   ]
  },
  {
   "cell_type": "code",
   "execution_count": 22,
   "metadata": {},
   "outputs": [
    {
     "data": {
      "text/plain": [
       "array([   39, 77516,    13,  2174,     0,    40,     0,     1,     0,\n",
       "           0,     0,     0,     0,     0,     0,     0,     0,     0,\n",
       "           0,     1,     0,     0,     0,     0,     0,     0,     0,\n",
       "           0,     0,     0,     0,     0,     0,     0,     0,     0,\n",
       "           1,     0,     0,     0,     0,     0,     0,     0,     0,\n",
       "           0,     0,     0,     0,     1,     0,     0,     0,     1,\n",
       "           0,     0,     0,     0,     0,     0,     0,     0,     0,\n",
       "           1,     0,     1,     0,     0,     0,     0,     0,     0,\n",
       "           0,     0,     0,     0,     0,     0,     0,     0,     0,\n",
       "           0,     0,     0,     0,     0,     0,     0,     0,     0,\n",
       "           0,     0,     0,     0,     0,     0,     0,     0,     1,\n",
       "           0,     0,     0,     0,     0,     0,     0,     0,     0])"
      ]
     },
     "execution_count": 22,
     "metadata": {},
     "output_type": "execute_result"
    }
   ],
   "source": [
    "this_row_vector = np.array(this_row_numeric + encoded_categorical)\n",
    "this_row_vector"
   ]
  },
  {
   "cell_type": "code",
   "execution_count": 15,
   "metadata": {},
   "outputs": [
    {
     "data": {
      "text/plain": [
       "[1,\n",
       " 39,\n",
       " ' State-gov',\n",
       " 77516,\n",
       " ' Bachelors',\n",
       " 13,\n",
       " ' Never-married',\n",
       " ' Adm-clerical',\n",
       " ' Not-in-family',\n",
       " ' White',\n",
       " ' Male',\n",
       " 2174,\n",
       " 0,\n",
       " 40,\n",
       " ' United-States',\n",
       " ' <=50K',\n",
       " None,\n",
       " 1,\n",
       " None]"
      ]
     },
     "execution_count": 15,
     "metadata": {},
     "output_type": "execute_result"
    }
   ],
   "source": [
    "this_row"
   ]
  },
  {
   "cell_type": "code",
   "execution_count": 23,
   "metadata": {
    "collapsed": true
   },
   "outputs": [],
   "source": [
    "import psycopg2 as pg2"
   ]
  },
  {
   "cell_type": "code",
   "execution_count": 24,
   "metadata": {
    "collapsed": true
   },
   "outputs": [],
   "source": [
    "pg_vector = pg2.Binary(this_row_vector)"
   ]
  },
  {
   "cell_type": "code",
   "execution_count": 28,
   "metadata": {
    "collapsed": true
   },
   "outputs": [],
   "source": [
    "con, cur = connect_to_postgres()\n",
    "cur.execute(\"\"\"\n",
    "BEGIN; \n",
    "UPDATE adult SET vector = {} \n",
    "WHERE _id = {};\n",
    "COMMIT;\"\"\".format(pg_vector, this_id))\n",
    "con.close()"
   ]
  },
  {
   "cell_type": "code",
   "execution_count": 31,
   "metadata": {
    "collapsed": true
   },
   "outputs": [],
   "source": [
    "con, cur = connect_to_postgres()\n",
    "cur.execute(\"\"\"\n",
    "SELECT vector FROM adult WHERE _id = {};\n",
    "\"\"\".format(this_id))\n",
    "res = cur.fetchall()[0]\n",
    "\n",
    "con.close()"
   ]
  },
  {
   "cell_type": "code",
   "execution_count": 35,
   "metadata": {},
   "outputs": [
    {
     "data": {
      "text/plain": [
       "array([   39, 77516,    13,  2174,     0,    40,     0,     1,     0,\n",
       "           0,     0,     0,     0,     0,     0,     0,     0,     0,\n",
       "           0,     1,     0,     0,     0,     0,     0,     0,     0,\n",
       "           0,     0,     0,     0,     0,     0,     0,     0,     0,\n",
       "           1,     0,     0,     0,     0,     0,     0,     0,     0,\n",
       "           0,     0,     0,     0,     1,     0,     0,     0,     1,\n",
       "           0,     0,     0,     0,     0,     0,     0,     0,     0,\n",
       "           1,     0,     1,     0,     0,     0,     0,     0,     0,\n",
       "           0,     0,     0,     0,     0,     0,     0,     0,     0,\n",
       "           0,     0,     0,     0,     0,     0,     0,     0,     0,\n",
       "           0,     0,     0,     0,     0,     0,     0,     0,     1,\n",
       "           0,     0,     0,     0,     0,     0,     0,     0,     0])"
      ]
     },
     "execution_count": 35,
     "metadata": {},
     "output_type": "execute_result"
    }
   ],
   "source": [
    "np.frombuffer(res[0], dtype=int)"
   ]
  },
  {
   "cell_type": "code",
   "execution_count": null,
   "metadata": {
    "collapsed": true
   },
   "outputs": [],
   "source": []
  }
 ],
 "metadata": {
  "kernelspec": {
   "display_name": "Python 3",
   "language": "python",
   "name": "python3"
  },
  "language_info": {
   "codemirror_mode": {
    "name": "ipython",
    "version": 3
   },
   "file_extension": ".py",
   "mimetype": "text/x-python",
   "name": "python",
   "nbconvert_exporter": "python",
   "pygments_lexer": "ipython3",
   "version": "3.5.2"
  }
 },
 "nbformat": 4,
 "nbformat_minor": 2
}
