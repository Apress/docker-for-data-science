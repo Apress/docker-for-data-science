{
 "cells": [
  {
   "cell_type": "code",
   "execution_count": 1,
   "metadata": {
    "collapsed": true
   },
   "outputs": [],
   "source": [
    "from os import chdir\n",
    "chdir('/home/jovyan/work')"
   ]
  },
  {
   "cell_type": "code",
   "execution_count": 2,
   "metadata": {
    "collapsed": true
   },
   "outputs": [],
   "source": [
    "import random\n",
    "import pandas as pd"
   ]
  },
  {
   "cell_type": "markdown",
   "metadata": {},
   "source": [
    "# Adult Data Set\n",
    "\n",
    "[source](http://archive.ics.uci.edu/ml/datasets/Adult)\n",
    "\n",
    "Download: [Data Folder](http://archive.ics.uci.edu/ml/machine-learning-databases/adult/), [Data Set Description](http://archive.ics.uci.edu/ml/machine-learning-databases/adult/adult.names)\n",
    "\n",
    "Abstract: Predict whether income exceeds $50K/yr based on census data. Also known as \"Census Income\" dataset.\n",
    "\n",
    "    | This data was extracted from the census bureau database found at\n",
    "    | http://www.census.gov/ftp/pub/DES/www/welcome.html\n",
    "    | Donor: Ronny Kohavi and Barry Becker,\n",
    "    |        Data Mining and Visualization\n",
    "    |        Silicon Graphics.\n",
    "    |        e-mail: ronnyk@sgi.com for questions.\n",
    "    | Split into train-test using MLC++ GenCVFiles (2/3, 1/3 random).\n",
    "    | 48842 instances, mix of continuous and discrete    (train=32561, test=16281)\n",
    "    | 45222 if instances with unknown values are removed (train=30162, test=15060)\n",
    "    | Duplicate or conflicting instances : 6\n",
    "    | Class probabilities for adult.all file\n",
    "    | Probability for the label '>50K'  : 23.93% / 24.78% (without unknowns)\n",
    "    | Probability for the label '<=50K' : 76.07% / 75.22% (without unknowns)"
   ]
  },
  {
   "cell_type": "code",
   "execution_count": 3,
   "metadata": {},
   "outputs": [
    {
     "name": "stdout",
     "output_type": "stream",
     "text": [
      "total 16\r\n",
      "drwxrwxr-x 2 jovyan 1000 4096 Jun 11 23:53 docker\r\n",
      "-rw-rw-r-- 1 jovyan 1000  145 Jun 11 23:55 docker-compose.yml\r\n",
      "drwxrwxr-x 3 jovyan 1000 4096 Jun 12 03:12 ipynb\r\n",
      "drwxrwxr-x 2 jovyan 1000 4096 Jun 11 23:53 lib\r\n"
     ]
    }
   ],
   "source": [
    "!ls -l"
   ]
  },
  {
   "cell_type": "code",
   "execution_count": 4,
   "metadata": {
    "collapsed": true
   },
   "outputs": [],
   "source": [
    "!mkdir data"
   ]
  },
  {
   "cell_type": "code",
   "execution_count": 5,
   "metadata": {},
   "outputs": [
    {
     "name": "stdout",
     "output_type": "stream",
     "text": [
      "--2017-06-12 03:28:31--  http://archive.ics.uci.edu/ml/machine-learning-databases/adult/adult.data\n",
      "Resolving archive.ics.uci.edu (archive.ics.uci.edu)... 128.195.10.249\n",
      "Connecting to archive.ics.uci.edu (archive.ics.uci.edu)|128.195.10.249|:80... connected.\n",
      "HTTP request sent, awaiting response... 200 OK\n",
      "Length: 3974305 (3.8M) [text/plain]\n",
      "Saving to: ‘data/adult.data’\n",
      "\n",
      "data/adult.data     100%[=====================>]   3.79M  7.93MB/s   in 0.5s   \n",
      "\n",
      "2017-06-12 03:28:31 (7.93 MB/s) - ‘data/adult.data’ saved [3974305/3974305]\n",
      "\n"
     ]
    }
   ],
   "source": [
    "!wget -P data/ \\\n",
    "  http://archive.ics.uci.edu/ml/machine-learning-databases/adult/adult.data"
   ]
  },
  {
   "cell_type": "code",
   "execution_count": 6,
   "metadata": {},
   "outputs": [
    {
     "name": "stdout",
     "output_type": "stream",
     "text": [
      "32562 data/adult.data\r\n"
     ]
    }
   ],
   "source": [
    "!wc -l data/adult.data"
   ]
  },
  {
   "cell_type": "code",
   "execution_count": 7,
   "metadata": {},
   "outputs": [
    {
     "name": "stdout",
     "output_type": "stream",
     "text": [
      "39, State-gov, 77516, Bachelors, 13, Never-married, Adm-clerical, Not-in-family, White, Male, 2174, 0, 40, United-States, <=50K\r\n",
      "50, Self-emp-not-inc, 83311, Bachelors, 13, Married-civ-spouse, Exec-managerial, Husband, White, Male, 0, 0, 13, United-States, <=50K\r\n"
     ]
    }
   ],
   "source": [
    "!head -n 2 data/adult.data"
   ]
  },
  {
   "cell_type": "code",
   "execution_count": 8,
   "metadata": {
    "collapsed": true
   },
   "outputs": [],
   "source": [
    "number_of_rows = 32562\n",
    "sample_size = 3300\n",
    "\n",
    "rows_to_skip = random.sample(range(number_of_rows), number_of_rows - sample_size)\n",
    "rows_to_skip.sort()\n",
    "\n",
    "adult_df = pd.read_csv('data/adult.data', header=None, skiprows=rows_to_skip)\n",
    "adult_df.columns = [\n",
    "    'age',\n",
    "    'workclass',\n",
    "    'fnlwgt',\n",
    "    'education',\n",
    "    'education_num',\n",
    "    'marital_status',\n",
    "    'occupation',\n",
    "    'relationship',\n",
    "    'race',\n",
    "    'gender',\n",
    "    'capital_gain',\n",
    "    'capital_loss',\n",
    "    'hours_per_week',\n",
    "    'native_country',\n",
    "    'income_label'\n",
    "]"
   ]
  },
  {
   "cell_type": "code",
   "execution_count": 9,
   "metadata": {},
   "outputs": [
    {
     "data": {
      "text/html": [
       "<div>\n",
       "<table border=\"1\" class=\"dataframe\">\n",
       "  <thead>\n",
       "    <tr style=\"text-align: right;\">\n",
       "      <th></th>\n",
       "      <th>age</th>\n",
       "      <th>workclass</th>\n",
       "      <th>fnlwgt</th>\n",
       "      <th>education</th>\n",
       "      <th>education_num</th>\n",
       "      <th>marital_status</th>\n",
       "      <th>occupation</th>\n",
       "      <th>relationship</th>\n",
       "      <th>race</th>\n",
       "      <th>gender</th>\n",
       "      <th>capital_gain</th>\n",
       "      <th>capital_loss</th>\n",
       "      <th>hours_per_week</th>\n",
       "      <th>native_country</th>\n",
       "      <th>income_label</th>\n",
       "    </tr>\n",
       "  </thead>\n",
       "  <tbody>\n",
       "    <tr>\n",
       "      <th>1571</th>\n",
       "      <td>43</td>\n",
       "      <td>Local-gov</td>\n",
       "      <td>36924</td>\n",
       "      <td>Masters</td>\n",
       "      <td>14</td>\n",
       "      <td>Married-civ-spouse</td>\n",
       "      <td>Prof-specialty</td>\n",
       "      <td>Husband</td>\n",
       "      <td>White</td>\n",
       "      <td>Male</td>\n",
       "      <td>0</td>\n",
       "      <td>0</td>\n",
       "      <td>40</td>\n",
       "      <td>United-States</td>\n",
       "      <td>&gt;50K</td>\n",
       "    </tr>\n",
       "    <tr>\n",
       "      <th>2690</th>\n",
       "      <td>47</td>\n",
       "      <td>Private</td>\n",
       "      <td>456661</td>\n",
       "      <td>7th-8th</td>\n",
       "      <td>4</td>\n",
       "      <td>Married-civ-spouse</td>\n",
       "      <td>Craft-repair</td>\n",
       "      <td>Husband</td>\n",
       "      <td>White</td>\n",
       "      <td>Male</td>\n",
       "      <td>0</td>\n",
       "      <td>0</td>\n",
       "      <td>40</td>\n",
       "      <td>Mexico</td>\n",
       "      <td>&lt;=50K</td>\n",
       "    </tr>\n",
       "    <tr>\n",
       "      <th>2102</th>\n",
       "      <td>29</td>\n",
       "      <td>Private</td>\n",
       "      <td>203797</td>\n",
       "      <td>Some-college</td>\n",
       "      <td>10</td>\n",
       "      <td>Married-civ-spouse</td>\n",
       "      <td>Exec-managerial</td>\n",
       "      <td>Husband</td>\n",
       "      <td>Black</td>\n",
       "      <td>Male</td>\n",
       "      <td>0</td>\n",
       "      <td>0</td>\n",
       "      <td>40</td>\n",
       "      <td>United-States</td>\n",
       "      <td>&lt;=50K</td>\n",
       "    </tr>\n",
       "  </tbody>\n",
       "</table>\n",
       "</div>"
      ],
      "text/plain": [
       "      age   workclass  fnlwgt      education  education_num  \\\n",
       "1571   43   Local-gov   36924        Masters             14   \n",
       "2690   47     Private  456661        7th-8th              4   \n",
       "2102   29     Private  203797   Some-college             10   \n",
       "\n",
       "           marital_status        occupation relationship    race gender  \\\n",
       "1571   Married-civ-spouse    Prof-specialty      Husband   White   Male   \n",
       "2690   Married-civ-spouse      Craft-repair      Husband   White   Male   \n",
       "2102   Married-civ-spouse   Exec-managerial      Husband   Black   Male   \n",
       "\n",
       "      capital_gain  capital_loss  hours_per_week  native_country income_label  \n",
       "1571             0             0              40   United-States         >50K  \n",
       "2690             0             0              40          Mexico        <=50K  \n",
       "2102             0             0              40   United-States        <=50K  "
      ]
     },
     "execution_count": 9,
     "metadata": {},
     "output_type": "execute_result"
    }
   ],
   "source": [
    "adult_df.sample(3)"
   ]
  },
  {
   "cell_type": "markdown",
   "metadata": {},
   "source": [
    "### Attribute Type\n",
    "\n",
    "    age: continuous\n",
    "    workclass: class\n",
    "    fnlwgt: continuous\n",
    "    education: class\n",
    "    education_num: continuous\n",
    "    marital_status: class\n",
    "    occupation: class\n",
    "    relationship: class\n",
    "    race: class\n",
    "    gender: class\n",
    "    capital_gain: continuous\n",
    "    capital_loss: continuous\n",
    "    hours_per_week: continuous\n",
    "    native_country: class\n",
    "    income_label: class"
   ]
  },
  {
   "cell_type": "code",
   "execution_count": 10,
   "metadata": {},
   "outputs": [
    {
     "data": {
      "text/plain": [
       "age                int64\n",
       "workclass         object\n",
       "fnlwgt             int64\n",
       "education         object\n",
       "education_num      int64\n",
       "marital_status    object\n",
       "occupation        object\n",
       "relationship      object\n",
       "race              object\n",
       "gender            object\n",
       "capital_gain       int64\n",
       "capital_loss       int64\n",
       "hours_per_week     int64\n",
       "native_country    object\n",
       "income_label      object\n",
       "dtype: object"
      ]
     },
     "execution_count": 10,
     "metadata": {},
     "output_type": "execute_result"
    }
   ],
   "source": [
    "adult_df.dtypes"
   ]
  },
  {
   "cell_type": "code",
   "execution_count": null,
   "metadata": {
    "collapsed": true
   },
   "outputs": [],
   "source": []
  }
 ],
 "metadata": {
  "kernelspec": {
   "display_name": "Python 3",
   "language": "python",
   "name": "python3"
  },
  "language_info": {
   "codemirror_mode": {
    "name": "ipython",
    "version": 3
   },
   "file_extension": ".py",
   "mimetype": "text/x-python",
   "name": "python",
   "nbconvert_exporter": "python",
   "pygments_lexer": "ipython3",
   "version": "3.5.2"
  }
 },
 "nbformat": 4,
 "nbformat_minor": 2
}
