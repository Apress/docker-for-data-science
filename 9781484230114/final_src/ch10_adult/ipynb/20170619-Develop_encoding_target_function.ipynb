{
 "cells": [
  {
   "cell_type": "code",
   "execution_count": 1,
   "metadata": {
    "collapsed": true
   },
   "outputs": [],
   "source": [
    "from os import chdir\n",
    "chdir('/home/jovyan/work')"
   ]
  },
  {
   "cell_type": "code",
   "execution_count": 2,
   "metadata": {
    "collapsed": true
   },
   "outputs": [],
   "source": [
    "from lib.postgres import connect_to_postgres"
   ]
  },
  {
   "cell_type": "markdown",
   "metadata": {},
   "source": [
    "### Attribute Type\n",
    "    age: continuous\n",
    "    workclass: class\n",
    "    fnlwgt: continuous\n",
    "    education: class\n",
    "    education_num: continuous\n",
    "    marital_status: class\n",
    "    occupation: class\n",
    "    relationship: class\n",
    "    race: class\n",
    "    gender: class\n",
    "    capital_gain: continuous\n",
    "    capital_loss: continuous\n",
    "    hours_per_week: continuous\n",
    "    native_country: class\n",
    "    income_label: class"
   ]
  },
  {
   "cell_type": "code",
   "execution_count": 3,
   "metadata": {
    "collapsed": true
   },
   "outputs": [],
   "source": [
    "con, cur = connect_to_postgres()\n",
    "cur.execute(\"\"\"\n",
    "BEGIN;\n",
    "ALTER TABLE adult ADD COLUMN _id SERIAL PRIMARY KEY;\n",
    "ALTER TABLE adult ADD COLUMN target BOOLEAN;\n",
    "COMMIT;\n",
    "\"\"\")\n",
    "con.close()"
   ]
  },
  {
   "cell_type": "code",
   "execution_count": 4,
   "metadata": {},
   "outputs": [
    {
     "name": "stdout",
     "output_type": "stream",
     "text": [
      "[(' >50K',), (' <=50K',)]\n"
     ]
    }
   ],
   "source": [
    "con, cur = connect_to_postgres()\n",
    "cur.execute(\"\"\"SELECT DISTINCT(income_label) FROM adult;\"\"\") \n",
    "print(cur.fetchall())\n",
    "con.close()"
   ]
  },
  {
   "cell_type": "code",
   "execution_count": 5,
   "metadata": {
    "collapsed": true
   },
   "outputs": [],
   "source": [
    "con, cur = connect_to_postgres()\n",
    "cur.execute(\"\"\"SELECT _id, income_label FROM adult WHERE target IS NULL;\"\"\") \n",
    "this_id, income_label = cur.fetchone()\n",
    "\n",
    "greater_than_50k = (income_label == ' >50K')\n",
    "\n",
    "cur.execute(\"\"\"\n",
    "BEGIN;\n",
    "UPDATE adult \n",
    "SET target = {} \n",
    "WHERE _id = {};\n",
    "COMMIT;\n",
    "\"\"\".format(greater_than_50k, this_id)) \n",
    "\n",
    "con.close()"
   ]
  },
  {
   "cell_type": "code",
   "execution_count": 6,
   "metadata": {},
   "outputs": [
    {
     "name": "stdout",
     "output_type": "stream",
     "text": [
      "10 (10, ' >50K', True)\n"
     ]
    }
   ],
   "source": [
    "con, cur = connect_to_postgres()\n",
    "cur.execute(\"\"\"\n",
    "SELECT _id, income_label, target \n",
    "FROM adult WHERE _id = {};\n",
    "\"\"\".format(this_id)) \n",
    "print(this_id, cur.fetchone())\n",
    "con.close()"
   ]
  },
  {
   "cell_type": "code",
   "execution_count": 7,
   "metadata": {
    "collapsed": true
   },
   "outputs": [],
   "source": [
    "def encode_target(_id):\n",
    "    \"\"\"Encode the target for a single row as a boolean value. Takes a row _id.\"\"\"\n",
    "    con, cur = connect_to_postgres()\n",
    "    cur.execute(\"\"\"SELECT _id, income_label FROM adult\"\"\".format(_id)) \n",
    "    this_id, income_label = cur.fetchone()\n",
    "    assert this_id == _id\n",
    "\n",
    "    greater_than_50k = (income_label == ' >50K')\n",
    "\n",
    "    cur.execute(\"\"\"\n",
    "        BEGIN;\n",
    "        UPDATE adult \n",
    "        SET target = {} \n",
    "        WHERE _id = {};\n",
    "        COMMIT;\n",
    "    \"\"\".format(greater_than_50k, _id)) \n",
    "\n",
    "    con.close()"
   ]
  },
  {
   "cell_type": "code",
   "execution_count": 71,
   "metadata": {
    "collapsed": true
   },
   "outputs": [],
   "source": [
    "con, cur = connect_to_postgres()\n",
    "cur.execute(\"\"\"SELECT _id FROM adult WHERE target IS NULL;\"\"\") \n",
    "this_id, = cur.fetchone()\n",
    "encode_target(this_id)\n",
    "con.close()"
   ]
  },
  {
   "cell_type": "code",
   "execution_count": 8,
   "metadata": {},
   "outputs": [
    {
     "name": "stdout",
     "output_type": "stream",
     "text": [
      "11 (11, ' >50K', True)\n"
     ]
    }
   ],
   "source": [
    "con, cur = connect_to_postgres()\n",
    "cur.execute(\"\"\"\n",
    "SELECT _id, income_label, target \n",
    "FROM adult WHERE _id = {};\n",
    "\"\"\".format(this_id)) \n",
    "print(this_id, cur.fetchone())\n",
    "con.close()"
   ]
  }
 ],
 "metadata": {
  "kernelspec": {
   "display_name": "Python 3",
   "language": "python",
   "name": "python3"
  },
  "language_info": {
   "codemirror_mode": {
    "name": "ipython",
    "version": 3
   },
   "file_extension": ".py",
   "mimetype": "text/x-python",
   "name": "python",
   "nbconvert_exporter": "python",
   "pygments_lexer": "ipython3",
   "version": "3.5.2"
  }
 },
 "nbformat": 4,
 "nbformat_minor": 2
}
